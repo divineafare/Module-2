{
 "cells": [
  {
   "cell_type": "code",
   "execution_count": 1,
   "id": "7a59f531",
   "metadata": {},
   "outputs": [],
   "source": [
    "# Importing necessary libraries\n",
    "import pandas as pd"
   ]
  },
  {
   "cell_type": "code",
   "execution_count": 6,
   "id": "163e09ef",
   "metadata": {},
   "outputs": [
    {
     "name": "stderr",
     "output_type": "stream",
     "text": [
      "C:\\Users\\USER\\AppData\\Local\\Temp\\ipykernel_3008\\2042873764.py:2: DtypeWarning: Columns (3,4,5,6,12) have mixed types. Specify dtype option on import or set low_memory=False.\n",
      "  df = pd.read_csv('C://Users//USER//Documents//Salaries.csv')\n"
     ]
    }
   ],
   "source": [
    "# Importing the salary data\n",
    "df = pd.read_csv('C://Users//USER//Documents//Salaries.csv')"
   ]
  },
  {
   "cell_type": "code",
   "execution_count": 7,
   "id": "377db4e5",
   "metadata": {},
   "outputs": [
    {
     "data": {
      "text/html": [
       "<div>\n",
       "<style scoped>\n",
       "    .dataframe tbody tr th:only-of-type {\n",
       "        vertical-align: middle;\n",
       "    }\n",
       "\n",
       "    .dataframe tbody tr th {\n",
       "        vertical-align: top;\n",
       "    }\n",
       "\n",
       "    .dataframe thead th {\n",
       "        text-align: right;\n",
       "    }\n",
       "</style>\n",
       "<table border=\"1\" class=\"dataframe\">\n",
       "  <thead>\n",
       "    <tr style=\"text-align: right;\">\n",
       "      <th></th>\n",
       "      <th>Id</th>\n",
       "      <th>EmployeeName</th>\n",
       "      <th>JobTitle</th>\n",
       "      <th>BasePay</th>\n",
       "      <th>OvertimePay</th>\n",
       "      <th>OtherPay</th>\n",
       "      <th>Benefits</th>\n",
       "      <th>TotalPay</th>\n",
       "      <th>TotalPayBenefits</th>\n",
       "      <th>Year</th>\n",
       "      <th>Notes</th>\n",
       "      <th>Agency</th>\n",
       "      <th>Status</th>\n",
       "    </tr>\n",
       "  </thead>\n",
       "  <tbody>\n",
       "    <tr>\n",
       "      <th>0</th>\n",
       "      <td>1</td>\n",
       "      <td>NATHANIEL FORD</td>\n",
       "      <td>GENERAL MANAGER-METROPOLITAN TRANSIT AUTHORITY</td>\n",
       "      <td>167411.18</td>\n",
       "      <td>0.0</td>\n",
       "      <td>400184.25</td>\n",
       "      <td>NaN</td>\n",
       "      <td>567595.43</td>\n",
       "      <td>567595.43</td>\n",
       "      <td>2011</td>\n",
       "      <td>NaN</td>\n",
       "      <td>San Francisco</td>\n",
       "      <td>NaN</td>\n",
       "    </tr>\n",
       "    <tr>\n",
       "      <th>1</th>\n",
       "      <td>2</td>\n",
       "      <td>GARY JIMENEZ</td>\n",
       "      <td>CAPTAIN III (POLICE DEPARTMENT)</td>\n",
       "      <td>155966.02</td>\n",
       "      <td>245131.88</td>\n",
       "      <td>137811.38</td>\n",
       "      <td>NaN</td>\n",
       "      <td>538909.28</td>\n",
       "      <td>538909.28</td>\n",
       "      <td>2011</td>\n",
       "      <td>NaN</td>\n",
       "      <td>San Francisco</td>\n",
       "      <td>NaN</td>\n",
       "    </tr>\n",
       "    <tr>\n",
       "      <th>2</th>\n",
       "      <td>3</td>\n",
       "      <td>ALBERT PARDINI</td>\n",
       "      <td>CAPTAIN III (POLICE DEPARTMENT)</td>\n",
       "      <td>212739.13</td>\n",
       "      <td>106088.18</td>\n",
       "      <td>16452.6</td>\n",
       "      <td>NaN</td>\n",
       "      <td>335279.91</td>\n",
       "      <td>335279.91</td>\n",
       "      <td>2011</td>\n",
       "      <td>NaN</td>\n",
       "      <td>San Francisco</td>\n",
       "      <td>NaN</td>\n",
       "    </tr>\n",
       "    <tr>\n",
       "      <th>3</th>\n",
       "      <td>4</td>\n",
       "      <td>CHRISTOPHER CHONG</td>\n",
       "      <td>WIRE ROPE CABLE MAINTENANCE MECHANIC</td>\n",
       "      <td>77916.0</td>\n",
       "      <td>56120.71</td>\n",
       "      <td>198306.9</td>\n",
       "      <td>NaN</td>\n",
       "      <td>332343.61</td>\n",
       "      <td>332343.61</td>\n",
       "      <td>2011</td>\n",
       "      <td>NaN</td>\n",
       "      <td>San Francisco</td>\n",
       "      <td>NaN</td>\n",
       "    </tr>\n",
       "    <tr>\n",
       "      <th>4</th>\n",
       "      <td>5</td>\n",
       "      <td>PATRICK GARDNER</td>\n",
       "      <td>DEPUTY CHIEF OF DEPARTMENT,(FIRE DEPARTMENT)</td>\n",
       "      <td>134401.6</td>\n",
       "      <td>9737.0</td>\n",
       "      <td>182234.59</td>\n",
       "      <td>NaN</td>\n",
       "      <td>326373.19</td>\n",
       "      <td>326373.19</td>\n",
       "      <td>2011</td>\n",
       "      <td>NaN</td>\n",
       "      <td>San Francisco</td>\n",
       "      <td>NaN</td>\n",
       "    </tr>\n",
       "  </tbody>\n",
       "</table>\n",
       "</div>"
      ],
      "text/plain": [
       "   Id       EmployeeName                                        JobTitle  \\\n",
       "0   1     NATHANIEL FORD  GENERAL MANAGER-METROPOLITAN TRANSIT AUTHORITY   \n",
       "1   2       GARY JIMENEZ                 CAPTAIN III (POLICE DEPARTMENT)   \n",
       "2   3     ALBERT PARDINI                 CAPTAIN III (POLICE DEPARTMENT)   \n",
       "3   4  CHRISTOPHER CHONG            WIRE ROPE CABLE MAINTENANCE MECHANIC   \n",
       "4   5    PATRICK GARDNER    DEPUTY CHIEF OF DEPARTMENT,(FIRE DEPARTMENT)   \n",
       "\n",
       "     BasePay OvertimePay   OtherPay Benefits   TotalPay  TotalPayBenefits  \\\n",
       "0  167411.18         0.0  400184.25      NaN  567595.43         567595.43   \n",
       "1  155966.02   245131.88  137811.38      NaN  538909.28         538909.28   \n",
       "2  212739.13   106088.18    16452.6      NaN  335279.91         335279.91   \n",
       "3    77916.0    56120.71   198306.9      NaN  332343.61         332343.61   \n",
       "4   134401.6      9737.0  182234.59      NaN  326373.19         326373.19   \n",
       "\n",
       "   Year  Notes         Agency Status  \n",
       "0  2011    NaN  San Francisco    NaN  \n",
       "1  2011    NaN  San Francisco    NaN  \n",
       "2  2011    NaN  San Francisco    NaN  \n",
       "3  2011    NaN  San Francisco    NaN  \n",
       "4  2011    NaN  San Francisco    NaN  "
      ]
     },
     "execution_count": 7,
     "metadata": {},
     "output_type": "execute_result"
    }
   ],
   "source": [
    "df.head()"
   ]
  },
  {
   "cell_type": "code",
   "execution_count": 8,
   "id": "58bce2fb",
   "metadata": {},
   "outputs": [
    {
     "data": {
      "text/plain": [
       "Id                       0\n",
       "EmployeeName             0\n",
       "JobTitle                 0\n",
       "BasePay                605\n",
       "OvertimePay              0\n",
       "OtherPay                 0\n",
       "Benefits             36159\n",
       "TotalPay                 0\n",
       "TotalPayBenefits         0\n",
       "Year                     0\n",
       "Notes               148654\n",
       "Agency                   0\n",
       "Status              110535\n",
       "dtype: int64"
      ]
     },
     "execution_count": 8,
     "metadata": {},
     "output_type": "execute_result"
    }
   ],
   "source": [
    "# check for missing values\n",
    "df.isnull().sum()"
   ]
  },
  {
   "cell_type": "code",
   "execution_count": 15,
   "id": "aca56870",
   "metadata": {},
   "outputs": [
    {
     "data": {
      "text/plain": [
       "(148049, 10)"
      ]
     },
     "execution_count": 15,
     "metadata": {},
     "output_type": "execute_result"
    }
   ],
   "source": [
    "# check the shape of the dataset\n",
    "df.shape"
   ]
  },
  {
   "cell_type": "code",
   "execution_count": 11,
   "id": "41d37de8",
   "metadata": {},
   "outputs": [
    {
     "data": {
      "text/plain": [
       "Index(['Id', 'EmployeeName', 'JobTitle', 'BasePay', 'OvertimePay', 'OtherPay',\n",
       "       'Benefits', 'TotalPay', 'TotalPayBenefits', 'Year', 'Notes', 'Agency',\n",
       "       'Status'],\n",
       "      dtype='object')"
      ]
     },
     "execution_count": 11,
     "metadata": {},
     "output_type": "execute_result"
    }
   ],
   "source": [
    "df.columns"
   ]
  },
  {
   "cell_type": "code",
   "execution_count": 12,
   "id": "b1e4ea0f",
   "metadata": {},
   "outputs": [],
   "source": [
    "# drop rows with missing values\n",
    "df.drop(['Status','Notes','Benefits'],axis =1 , inplace =True)"
   ]
  },
  {
   "cell_type": "code",
   "execution_count": 13,
   "id": "3eb6b506",
   "metadata": {},
   "outputs": [],
   "source": [
    "df.dropna(inplace =True)"
   ]
  },
  {
   "cell_type": "code",
   "execution_count": 14,
   "id": "bcba93af",
   "metadata": {},
   "outputs": [
    {
     "data": {
      "text/html": [
       "<div>\n",
       "<style scoped>\n",
       "    .dataframe tbody tr th:only-of-type {\n",
       "        vertical-align: middle;\n",
       "    }\n",
       "\n",
       "    .dataframe tbody tr th {\n",
       "        vertical-align: top;\n",
       "    }\n",
       "\n",
       "    .dataframe thead th {\n",
       "        text-align: right;\n",
       "    }\n",
       "</style>\n",
       "<table border=\"1\" class=\"dataframe\">\n",
       "  <thead>\n",
       "    <tr style=\"text-align: right;\">\n",
       "      <th></th>\n",
       "      <th>Id</th>\n",
       "      <th>EmployeeName</th>\n",
       "      <th>JobTitle</th>\n",
       "      <th>BasePay</th>\n",
       "      <th>OvertimePay</th>\n",
       "      <th>OtherPay</th>\n",
       "      <th>TotalPay</th>\n",
       "      <th>TotalPayBenefits</th>\n",
       "      <th>Year</th>\n",
       "      <th>Agency</th>\n",
       "    </tr>\n",
       "  </thead>\n",
       "  <tbody>\n",
       "    <tr>\n",
       "      <th>0</th>\n",
       "      <td>1</td>\n",
       "      <td>NATHANIEL FORD</td>\n",
       "      <td>GENERAL MANAGER-METROPOLITAN TRANSIT AUTHORITY</td>\n",
       "      <td>167411.18</td>\n",
       "      <td>0.0</td>\n",
       "      <td>400184.25</td>\n",
       "      <td>567595.43</td>\n",
       "      <td>567595.43</td>\n",
       "      <td>2011</td>\n",
       "      <td>San Francisco</td>\n",
       "    </tr>\n",
       "    <tr>\n",
       "      <th>1</th>\n",
       "      <td>2</td>\n",
       "      <td>GARY JIMENEZ</td>\n",
       "      <td>CAPTAIN III (POLICE DEPARTMENT)</td>\n",
       "      <td>155966.02</td>\n",
       "      <td>245131.88</td>\n",
       "      <td>137811.38</td>\n",
       "      <td>538909.28</td>\n",
       "      <td>538909.28</td>\n",
       "      <td>2011</td>\n",
       "      <td>San Francisco</td>\n",
       "    </tr>\n",
       "    <tr>\n",
       "      <th>2</th>\n",
       "      <td>3</td>\n",
       "      <td>ALBERT PARDINI</td>\n",
       "      <td>CAPTAIN III (POLICE DEPARTMENT)</td>\n",
       "      <td>212739.13</td>\n",
       "      <td>106088.18</td>\n",
       "      <td>16452.6</td>\n",
       "      <td>335279.91</td>\n",
       "      <td>335279.91</td>\n",
       "      <td>2011</td>\n",
       "      <td>San Francisco</td>\n",
       "    </tr>\n",
       "    <tr>\n",
       "      <th>3</th>\n",
       "      <td>4</td>\n",
       "      <td>CHRISTOPHER CHONG</td>\n",
       "      <td>WIRE ROPE CABLE MAINTENANCE MECHANIC</td>\n",
       "      <td>77916.0</td>\n",
       "      <td>56120.71</td>\n",
       "      <td>198306.9</td>\n",
       "      <td>332343.61</td>\n",
       "      <td>332343.61</td>\n",
       "      <td>2011</td>\n",
       "      <td>San Francisco</td>\n",
       "    </tr>\n",
       "    <tr>\n",
       "      <th>4</th>\n",
       "      <td>5</td>\n",
       "      <td>PATRICK GARDNER</td>\n",
       "      <td>DEPUTY CHIEF OF DEPARTMENT,(FIRE DEPARTMENT)</td>\n",
       "      <td>134401.6</td>\n",
       "      <td>9737.0</td>\n",
       "      <td>182234.59</td>\n",
       "      <td>326373.19</td>\n",
       "      <td>326373.19</td>\n",
       "      <td>2011</td>\n",
       "      <td>San Francisco</td>\n",
       "    </tr>\n",
       "  </tbody>\n",
       "</table>\n",
       "</div>"
      ],
      "text/plain": [
       "   Id       EmployeeName                                        JobTitle  \\\n",
       "0   1     NATHANIEL FORD  GENERAL MANAGER-METROPOLITAN TRANSIT AUTHORITY   \n",
       "1   2       GARY JIMENEZ                 CAPTAIN III (POLICE DEPARTMENT)   \n",
       "2   3     ALBERT PARDINI                 CAPTAIN III (POLICE DEPARTMENT)   \n",
       "3   4  CHRISTOPHER CHONG            WIRE ROPE CABLE MAINTENANCE MECHANIC   \n",
       "4   5    PATRICK GARDNER    DEPUTY CHIEF OF DEPARTMENT,(FIRE DEPARTMENT)   \n",
       "\n",
       "     BasePay OvertimePay   OtherPay   TotalPay  TotalPayBenefits  Year  \\\n",
       "0  167411.18         0.0  400184.25  567595.43         567595.43  2011   \n",
       "1  155966.02   245131.88  137811.38  538909.28         538909.28  2011   \n",
       "2  212739.13   106088.18    16452.6  335279.91         335279.91  2011   \n",
       "3    77916.0    56120.71   198306.9  332343.61         332343.61  2011   \n",
       "4   134401.6      9737.0  182234.59  326373.19         326373.19  2011   \n",
       "\n",
       "          Agency  \n",
       "0  San Francisco  \n",
       "1  San Francisco  \n",
       "2  San Francisco  \n",
       "3  San Francisco  \n",
       "4  San Francisco  "
      ]
     },
     "execution_count": 14,
     "metadata": {},
     "output_type": "execute_result"
    }
   ],
   "source": [
    "df.head()"
   ]
  },
  {
   "cell_type": "markdown",
   "id": "b7c71ff8",
   "metadata": {},
   "source": [
    "#  Create Employee Function"
   ]
  },
  {
   "cell_type": "code",
   "execution_count": 19,
   "id": "acdc6588",
   "metadata": {},
   "outputs": [
    {
     "name": "stdout",
     "output_type": "stream",
     "text": [
      "{'Id': 1, 'EmployeeName': 'NATHANIEL FORD', 'JobTitle': 'GENERAL MANAGER-METROPOLITAN TRANSIT AUTHORITY', 'BasePay': 167411.18, 'OvertimePay': 0.0, 'OtherPay': 400184.25, 'TotalPay': 567595.43, 'TotalPayBenefits': 567595.43, 'Year': 2011, 'Agency': 'San Francisco'}\n"
     ]
    }
   ],
   "source": [
    "def get_employee_details(employee_name):\n",
    "    try:\n",
    "        # Assuming the employee's name is unique in the dataset\n",
    "        employee = df[df['EmployeeName'] == employee_name]\n",
    "        if not employee.empty:\n",
    "            return employee.to_dict(orient='records')[0]\n",
    "        else:\n",
    "            return \"Employee not found.\"\n",
    "    except Exception as e:\n",
    "        return f\"An error occurred: {e}\"\n",
    "\n",
    "# Example usage\n",
    "print(get_employee_details('NATHANIEL FORD'))  \n"
   ]
  },
  {
   "cell_type": "markdown",
   "id": "4fdd4ecc",
   "metadata": {},
   "source": [
    "# Data Processing with Dictionary"
   ]
  },
  {
   "cell_type": "code",
   "execution_count": 21,
   "id": "a06f1876",
   "metadata": {},
   "outputs": [
    {
     "name": "stdout",
     "output_type": "stream",
     "text": [
      "Average BasePay: 66325.4488404877\n"
     ]
    }
   ],
   "source": [
    "# Convert 'BasePay' to numeric, forcing errors to NaN\n",
    "salary_data['BasePay'] = pd.to_numeric(salary_data['BasePay'], errors='coerce')\n",
    "\n",
    "# Convert salary data to a dictionary\n",
    "salary_dict = salary_data.to_dict(orient='records')\n",
    "\n",
    "# Example of processing: Calculate average BasePay\n",
    "average_base_pay = salary_data['BasePay'].mean()\n",
    "print(f\"Average BasePay: {average_base_pay}\")\n"
   ]
  },
  {
   "cell_type": "markdown",
   "id": "e9413370",
   "metadata": {},
   "source": [
    "#  Error Handling"
   ]
  },
  {
   "cell_type": "code",
   "execution_count": 22,
   "id": "85f5c077",
   "metadata": {},
   "outputs": [
    {
     "name": "stdout",
     "output_type": "stream",
     "text": [
      "{'Id': 1, 'EmployeeName': 'NATHANIEL FORD', 'JobTitle': 'GENERAL MANAGER-METROPOLITAN TRANSIT AUTHORITY', 'BasePay': 167411.18, 'OvertimePay': 0.0, 'OtherPay': 400184.25, 'Benefits': nan, 'TotalPay': 567595.43, 'TotalPayBenefits': 567595.43, 'Year': 2011, 'Notes': nan, 'Agency': 'San Francisco', 'Status': nan}\n"
     ]
    }
   ],
   "source": [
    "def get_employee_details(employee_name):\n",
    "    try:\n",
    "        # Assuming the employee's name is unique in the dataset\n",
    "        employee = salary_data[salary_data['EmployeeName'] == employee_name]\n",
    "        if not employee.empty:\n",
    "            return employee.to_dict(orient='records')[0]\n",
    "        else:\n",
    "            return \"Employee not found.\"\n",
    "    except Exception as e:\n",
    "        return f\"An error occurred: {e}\"\n",
    "\n",
    "def safe_get_employee_details(employee_name):\n",
    "    try:\n",
    "        # Call the function to get employee details\n",
    "        result = get_employee_details(employee_name)\n",
    "        if isinstance(result, dict):\n",
    "            return result\n",
    "        else:\n",
    "            # If the result is an error message or \"Employee not found\"\n",
    "            return result\n",
    "    except Exception as e:\n",
    "        return f\"An error occurred while fetching details: {e}\"\n",
    "\n",
    "# Example usage with error handling\n",
    "print(safe_get_employee_details('NATHANIEL FORD')) \n"
   ]
  },
  {
   "cell_type": "markdown",
   "id": "6f95bc8a",
   "metadata": {},
   "source": [
    "# Export Employee Details to CSV and Zip It"
   ]
  },
  {
   "cell_type": "code",
   "execution_count": 24,
   "id": "f39038c7",
   "metadata": {},
   "outputs": [
    {
     "name": "stdout",
     "output_type": "stream",
     "text": [
      "Employee details exported and zipped successfully in Employee Profile.zip\n"
     ]
    }
   ],
   "source": [
    "import pandas as pd\n",
    "import os\n",
    "import zipfile\n",
    "import csv\n",
    "\n",
    "\n",
    "\n",
    "\n",
    "def get_employee_details(employee_name):\n",
    "    try:\n",
    "        # Assuming the employee's name is unique in the dataset\n",
    "        employee = df[df['EmployeeName'] == employee_name]\n",
    "        if not employee.empty:\n",
    "            return employee.to_dict(orient='records')[0]\n",
    "        else:\n",
    "            return \"Employee not found.\"\n",
    "    except Exception as e:\n",
    "        return f\"An error occurred: {e}\"\n",
    "\n",
    "def export_employee_to_csv(employee_name):\n",
    "    try:\n",
    "        employee = get_employee_details(employee_name)\n",
    "        if isinstance(employee, dict):  \n",
    "            # Define output directory and file\n",
    "            output_dir = 'Employee Profile'\n",
    "            os.makedirs(output_dir, exist_ok=True)\n",
    "            output_file = os.path.join(output_dir, f\"{employee_name}_details.csv\")\n",
    "\n",
    "            # Write to CSV\n",
    "            with open(output_file, mode='w', newline='') as file:\n",
    "                writer = csv.DictWriter(file, fieldnames=employee.keys())\n",
    "                writer.writeheader()\n",
    "                writer.writerow(employee)\n",
    "\n",
    "            # Zip the file\n",
    "            with zipfile.ZipFile(f\"{output_dir}.zip\", 'w') as zipf:\n",
    "                zipf.write(output_file, os.path.basename(output_file))\n",
    "\n",
    "            # Clean up CSV file\n",
    "            os.remove(output_file)\n",
    "\n",
    "            return f\"Employee details exported and zipped successfully in {output_dir}.zip\"\n",
    "        else:\n",
    "            return employee  # Error message from get_employee_details\n",
    "    except Exception as e:\n",
    "        return f\"An error occurred: {e}\"\n",
    "\n",
    "# Example usage\n",
    "print(export_employee_to_csv('NATHANIEL FORD'))  \n"
   ]
  },
  {
   "cell_type": "code",
   "execution_count": null,
   "id": "1b932763",
   "metadata": {},
   "outputs": [],
   "source": []
  }
 ],
 "metadata": {
  "kernelspec": {
   "display_name": "Python 3 (ipykernel)",
   "language": "python",
   "name": "python3"
  },
  "language_info": {
   "codemirror_mode": {
    "name": "ipython",
    "version": 3
   },
   "file_extension": ".py",
   "mimetype": "text/x-python",
   "name": "python",
   "nbconvert_exporter": "python",
   "pygments_lexer": "ipython3",
   "version": "3.10.9"
  }
 },
 "nbformat": 4,
 "nbformat_minor": 5
}
